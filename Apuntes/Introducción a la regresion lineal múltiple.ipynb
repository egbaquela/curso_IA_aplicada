{
 "cells": [
  {
   "cell_type": "markdown",
   "metadata": {},
   "source": [
    "# Regresión Lineal\n",
    "La regresión lineal es uno de los métodos mas antiguos de Aprendizaje Supervisado. La regresión lineal se basa en el principio subyacente que las variables independientes (predictores o features) se relacionan en forma lineal a efectos de generar el valor de la variable dependiente. Además de permitirnos predecir la variable independiente, también nos permite identificar cuales son las variables dependientes que mas impactan en el valor de la variable a predecir.\n",
    "\n",
    "## Modelo subyacente\n",
    "El modelo subycente a una regresión lineal consiste en una combinación lineal de todos los predictores:\n",
    "#### Modelo de regresión lineal simple (un predictor): \n",
    "\\begin{equation*}\n",
    "y = \\theta_{0} + \\theta_{1} \\cdot x_{1} + \\epsilon\n",
    "\\end{equation*}\n",
    "\n",
    "Con:\n",
    "\n",
    "\\begin{equation*}\n",
    "\\hat{y} = \\theta_{0} + \\theta_{1} \\cdot x{1}\n",
    "\\end{equation*}\n",
    "\n",
    "#### Modelo de regresión lineal múltiple (muchos predictores):\n",
    "\\begin{equation*}\n",
    "y = \\theta_{0} + \\sum_{i=1}^{n}(\\theta_{i} \\cdot x_{i}) + \\epsilon\n",
    "\\end{equation*}\n",
    "\n",
    "Con:\n",
    "\n",
    "\\begin{equation*}\n",
    "\\hat{y} = \\theta_{0} + \\sum_{i=1}^{n}(\\theta_{i} \\cdot x_{i}) \n",
    "\\end{equation*}\n",
    "\n",
    "Donde:\n",
    "- $\\hat{y}$ es el valor predicho (la estimación de la variable independiente).\n",
    "- $n$ es el número de variables dependientes.\n",
    "- $x_{i}$ es la $ith$ variable dependiente.\n",
    "- $\\theta_{j}$ es el $jth$ parámetro del modelo. Incluye el bias (sesgo o término independiente) y los coeficientes de todas las variables dependientes.\n",
    "- $\\epsilon$ es el error (aleatorio) en la predicción.\n",
    "\n",
    "Usualmente, en Machine Learning la notación anterior (notación normal) no es muy usada. Se prefiere la notación vectorial porque permite expresiones mucho mas compactas:\n",
    "\n",
    "\\begin{equation*}\n",
    "\\hat{\\vec{y}} = \\vec{θ}^{T} \\cdot \\vec{X}\n",
    "\\end{equation*}\n",
    "\n",
    "Donde:\n",
    "- $\\vec{θ}$ es el vector fila de parámetros del modelo. Incluye el bias (sesgo o término independiente) y los coeficientes de todas las variables dependientes.\n",
    "- $\\vec{θ}^{T}$ es el transpuesto del vector $\\vec{θ}$ (o sea, un vector columna).\n",
    "- $\\vec{X}$ es el vector fila de variables independientes. Para poder multiplicarlo por $\\vec{θ}^{T}$, se agrega la componente inicial correspoendiente al bias ($\\theta_{0}$), la cual vale siempre $1$.\n",
    "- $\\vec{θ}^{T} \\cdot \\vec{X}$ es el producto escalar entre $\\vec{X}$ y $\\vec{θ}^{T}$.\n",
    "- $\\hat{y}$ es la predicción (un escalar).\n",
    "\n",
    "### Caracterización de un modelo de regresión lineal\n",
    "Ya sabida la forma en que se combinan los predictores, un modelo de regresión lineal se puede caracterizar completamente por $\\vec{θ}$. Es decir, a efectos de predecir el valor de $y$ (es decir, calcular $\\hat{y}$) solo necesitamos conocer $\\theta$ y multiplicar su transpuesto por el vector de los valores de los predictores."
   ]
  },
  {
   "cell_type": "markdown",
   "metadata": {},
   "source": [
    "## Entrenamiento del modelo (cálculo de $\\vec{\\theta}$)\n",
    "En un problema de Aprendizaje Supervisado, partimos de un conjunto de $m$ observaciones de parejas de $\\vec{X}$ e $y$. Recordemos que $\\vec{X}$ es un vector fila, entonces, colocando un vector $\\vec{X}$ abajo de otro podemos crear la matriz de observaciones $\\textbf{X}^{mx(n+1)}$ en el cual cada una de las $m$ filas es una observación (o muestra) y cada una de las $n+1$ columnas un predictor (la primera columna es la constante $1$). O sea, si tenemos:\n",
    "\n",
    "\\begin{equation*}\n",
    "\\vec{X}^{1} = (x_{1}^{1}, x_{2}^{1}, \\cdots  , x_{n}^{1})  \\\\\n",
    "\\vec{X}^{2} = (x_{1}^{2}, x_{2}^{2}, \\cdots  , x_{n}^{2})  \\\\\n",
    "\\vdots  \\\\\n",
    "\\vec{X}^{m} = (x_{1}^{m}, x_{2}^{m}, \\cdots  , x_{n}^{m})  \\\\\n",
    "\\end{equation*}\n",
    "\n",
    "Podemos escribirlo en forma matricial como:\n",
    "\\begin{equation*}\n",
    "\\textbf{X} = \n",
    "  \\begin{bmatrix}\n",
    "    1 & x_{1}^{1} & x_{2}^{1} & \\cdots & x_{n}^{1} \\\\\n",
    "    1 & x_{1}^{2} & x_{2}^{2} & \\cdots & x_{n}^{2} \\\\\n",
    "    \\vdots & \\vdots & \\vdots & \\ddots & \\vdots \\\\\n",
    "    1 & x_{1}^{m} & x_{2}^{m} & \\cdots & x_{n}^{m} \\\\\n",
    "  \\end{bmatrix}\n",
    "\\end{equation*}\n",
    "\n",
    "En forma similar, podemos transformar las $m$ observaciones de $y$ en un vector columna $\\vec{y}$ de $m$ dimensiones:\n",
    "\n",
    "\\begin{equation*}\n",
    "\\vec{y} = \n",
    "  \\begin{bmatrix}\n",
    "    y^{1} \\\\\n",
    "    y^{2} \\\\\n",
    "    \\vdots \\\\\n",
    "    y^{m} \\\\\n",
    "  \\end{bmatrix}\n",
    "\\end{equation*}\n",
    "\n",
    "Por las definiciones dadas en la sección anterior, $\\vec{y}$ es equivalente a:\n",
    "\n",
    "\\begin{equation*}\n",
    "\\vec{y} = \\vec{\\hat{y}} + \\vec{e} = \\textbf{X}\\vec{\\theta}^{T} + \\vec{\\epsilon}\n",
    "\\end{equation*}\n",
    "\n",
    "\n",
    "O en su forma explícita:\n",
    "\n",
    "\\begin{equation*}\n",
    " \\begin{bmatrix}\n",
    "    y^{1} \\\\\n",
    "    y^{2} \\\\\n",
    "    \\vdots \\\\\n",
    "    y^{m} \\\\\n",
    " \\end{bmatrix}  \n",
    " = \n",
    " \\begin{bmatrix}\n",
    "    1 & x_{1}^{1} & x_{2}^{1} & \\cdots & x_{n}^{1} \\\\\n",
    "    1 & x_{1}^{2} & x_{2}^{2} & \\cdots & x_{n}^{2} \\\\\n",
    "    \\vdots & \\vdots & \\vdots & \\ddots & \\vdots \\\\\n",
    "    1 & x_{1}^{m} & x_{2}^{m} & \\cdots & x_{n}^{m} \\\\\n",
    " \\end{bmatrix}\n",
    " \\begin{bmatrix}\n",
    "     \\theta_{0} \\\\\n",
    "     \\theta_{1} \\\\\n",
    "     \\theta_{2} \\\\ \n",
    "     \\cdots \\\\\n",
    "     \\theta_{n}\n",
    " \\end{bmatrix} \n",
    " +\n",
    " \\begin{bmatrix}\n",
    "    \\epsilon^{1} \\\\\n",
    "    \\epsilon^{2} \\\\\n",
    "    \\vdots \\\\\n",
    "    \\epsilon^{m} \\\\\n",
    " \\end{bmatrix}  \n",
    "\\end{equation*}\n",
    "\n",
    "Donde $\\vec{\\epsilon}$ es el vector de los errores o diferencias de cada valor predicho respecto del valor muestreado. Siendo $\\vec{y}$ y $\\textbf{X}$ datos, queremos encontrar el valor de $\\vec{\\theta}$ que nos permite minimizar $\\vec{\\epsilon}$. Desde Gauss en adelante, se sabe (lo demostró el alemán) que el mejor escalar que minimiza $\\vec{\\epsilon}$ es la suma de sus errores cuadráticos, entonces nuestra función de costo se puede expresar como:\n",
    "\n",
    "\\begin{equation*}\n",
    "J(\\vec{\\theta}|(\\textbf{X}, \\vec{y}))= \\sum_{i=1}^{m} [(\\epsilon_{i})^{2}] \n",
    "\\end{equation*}\n",
    "\n",
    "Siendo el problema de optimización a resolver:\n",
    "\n",
    "\\begin{equation*}\n",
    "Min\\ J(\\vec{\\theta}|(\\textbf{X}, \\vec{y}))\n",
    "\\end{equation*}\n",
    "\n",
    "En realidad, para que la minimización de $\\sum_{i=1}^{m} [(\\epsilon_{i})^{2}] $ sea la que nos permite obtener el mejor vector $\\vec{\\theta}$ posible, se deben cumplir una serie de hipótesis:\n",
    "\n",
    " - Esperanza matemática nula de los errores: $E(\\epsilon) = 0 $. Es decir, los valores de $\\epsilon$ seran aleatorios, pero no tomaran sistematicamente valores positivos o negativos.\n",
    " - Homocedasticidad: $Var(\\epsilon) = E(\\epsilon - E(\\epsilon))^2 = E(\\epsilon)^2 = \\sigma^{2}$. La varianza del error es siempre la misma (aunque es desconocida).\n",
    " - Incorrelación o independencia: . El valor de ningún elemento muestral está influenciado por el valor de ningún otro.\n",
    " - Regresores estocásticos: la muestra se tomó en forma aleatoria.\n",
    " - Independencia lineal. No existen relaciones lineales exactas entre los regresores.\n",
    " - Normalidad de las perturbaciones: $\\epsilon \\sim N(0, \\sigma^2)$. Los errores se distribuyen en forma estable según una distribución normal de media $0$ y desviación estandar $\\sigma$. \n",
    "\n"
   ]
  },
  {
   "cell_type": "markdown",
   "metadata": {},
   "source": [
    "### Cálculo exacto de $\\vec{\\theta}$\n",
    "Asumiendo que se cumplen las hipótesis requeridas y el determinante de $\\textbf{X}^{T}\\textbf{X}$ es no nulo, la solución del problema de minimización es:\n",
    "\n",
    "\\begin{equation*}\n",
    "\\vec{\\theta} = (\\textbf{X}^{T}\\textbf{X})^{-1}\\textbf{X}^{T}\\vec{y}\n",
    "\\end{equation*}\n"
   ]
  },
  {
   "cell_type": "markdown",
   "metadata": {},
   "source": [
    "## Primer ejemplo"
   ]
  },
  {
   "cell_type": "markdown",
   "metadata": {},
   "source": [
    "Generemos nuestro primer ejemplo de regresion lineal simple. Importemos Numpy y creemos datos aleatorios para X:"
   ]
  },
  {
   "cell_type": "code",
   "execution_count": 1,
   "metadata": {},
   "outputs": [],
   "source": [
    "import numpy as np\n",
    "\n",
    "np.random.seed(19680801) # Fijo la semilla aleatoria, para reproducir el experimento\n",
    "X = 2 * np.random.rand(100, 1)"
   ]
  },
  {
   "cell_type": "markdown",
   "metadata": {},
   "source": [
    "Veamos el contenido de las primeras 10 muestras de nuestra variable:"
   ]
  },
  {
   "cell_type": "code",
   "execution_count": 14,
   "metadata": {},
   "outputs": [
    {
     "data": {
      "text/plain": [
       "array([[ 1.40073461],\n",
       "       [ 1.48550162],\n",
       "       [ 1.41856002],\n",
       "       [ 1.13349104],\n",
       "       [ 1.95557067],\n",
       "       [ 1.41266969],\n",
       "       [ 0.49583152],\n",
       "       [ 0.3157667 ],\n",
       "       [ 1.39539704],\n",
       "       [ 1.43991333]])"
      ]
     },
     "execution_count": 14,
     "metadata": {},
     "output_type": "execute_result"
    }
   ],
   "source": [
    "X[0:10]"
   ]
  },
  {
   "cell_type": "markdown",
   "metadata": {},
   "source": [
    "Esta visualización no es tan útil, hagamos un histograma con matplotlib:"
   ]
  },
  {
   "cell_type": "code",
   "execution_count": 4,
   "metadata": {},
   "outputs": [
    {
     "data": {
      "image/png": "[encoded data removed]",
      "text/plain": [
       "<Figure size 432x288 with 1 Axes>"
      ]
     },
     "metadata": {},
     "output_type": "display_data"
    },
    {
     "data": {
      "text/plain": [
       "<Figure size 432x288 with 0 Axes>"
      ]
     },
     "metadata": {},
     "output_type": "display_data"
    }
   ],
   "source": [
    "import matplotlib.pyplot as plt\n",
    "\n",
    "n_bins = 20\n",
    "plt.title('Variable Independiente')\n",
    "plt.hist(X, bins = n_bins)\n",
    "plt.grid(True)\n",
    "plt.show()\n",
    "plt.clf()\n"
   ]
  },
  {
   "cell_type": "markdown",
   "metadata": {},
   "source": [
    "Definamos y como una función lineal respecto de X pero con ruido aleatorio. Obviamente, en un ejemplo real no conocería la forma de y."
   ]
  },
  {
   "cell_type": "code",
   "execution_count": 5,
   "metadata": {},
   "outputs": [],
   "source": [
    "y = 4 + 3 * X + np.random.randn(100, 1)"
   ]
  },
  {
   "cell_type": "markdown",
   "metadata": {},
   "source": [
    "Veamos como lucen los datos:"
   ]
  },
  {
   "cell_type": "code",
   "execution_count": 6,
   "metadata": {},
   "outputs": [
    {
     "data": {
      "image/png": "[encoded data removed]",
      "text/plain": [
       "<Figure size 432x288 with 1 Axes>"
      ]
     },
     "metadata": {},
     "output_type": "display_data"
    }
   ],
   "source": [
    "plt.plot(X, y, \"b.\") #\"b.\" indica que grafique puntos sin unir mediente líneas\n",
    "plt.axis([0, 2, 0, 15])\n",
    "plt.show()"
   ]
  },
  {
   "cell_type": "markdown",
   "metadata": {},
   "source": [
    "A simple vista se observa cierta dependencia. Pero supongamos que no sabemos como está definida \"y\" y tratemos de estimarla usando regresión lineal.\n",
    "Primero, agreguemos a los datos el coefiente 1 para el término independiente:"
   ]
  },
  {
   "cell_type": "code",
   "execution_count": 7,
   "metadata": {},
   "outputs": [],
   "source": [
    "X_b = np.c_[np.ones((100, 1)), X] "
   ]
  },
  {
   "cell_type": "markdown",
   "metadata": {},
   "source": [
    "Y ahora calculemos los valores de θ que minimizan el error en el ajuste:"
   ]
  },
  {
   "cell_type": "code",
   "execution_count": 8,
   "metadata": {},
   "outputs": [
    {
     "data": {
      "text/plain": [
       "array([[ 4.02504519],\n",
       "       [ 2.97242573]])"
      ]
     },
     "execution_count": 8,
     "metadata": {},
     "output_type": "execute_result"
    }
   ],
   "source": [
    "theta_best = np.linalg.inv(X_b.T.dot(X_b)).dot(X_b.T).dot(y)\n",
    "theta_best"
   ]
  },
  {
   "cell_type": "markdown",
   "metadata": {},
   "source": [
    "Listo, theta_best son los parámetros del modelo de regresión lineal que ajusté que minimizan el error (que lo definimos aleatoriamente). ¿Como uso theta_best para hacer una predicción?:"
   ]
  },
  {
   "cell_type": "code",
   "execution_count": 9,
   "metadata": {},
   "outputs": [
    {
     "data": {
      "text/plain": [
       "array([[ 4.02504519],\n",
       "       [ 9.96989666]])"
      ]
     },
     "execution_count": 9,
     "metadata": {},
     "output_type": "execute_result"
    }
   ],
   "source": [
    "X_new = np.array([[0], [2]])\n",
    "X_new_b = np.c_[np.ones((2, 1)), X_new] # add x0 = 1 to each instance \n",
    "y_predict = X_new_b.dot(theta_best)\n",
    "y_predict"
   ]
  },
  {
   "cell_type": "markdown",
   "metadata": {},
   "source": [
    "Si lo grafico:"
   ]
  },
  {
   "cell_type": "code",
   "execution_count": 10,
   "metadata": {
    "scrolled": true
   },
   "outputs": [
    {
     "data": {
      "image/png": "[encoded data removed]",
      "text/plain": [
       "<Figure size 432x288 with 1 Axes>"
      ]
     },
     "metadata": {},
     "output_type": "display_data"
    }
   ],
   "source": [
    "plt.plot(X_new, y_predict, \"r-\")\n",
    "plt.plot(X, y, \"b.\")\n",
    "plt.axis([0, 2, 0, 15])\n",
    "plt.show()"
   ]
  },
  {
   "cell_type": "markdown",
   "metadata": {},
   "source": [
    "## Calculo de $\\theta$ mediante \"*Descenso por gradiente*\""
   ]
  },
  {
   "cell_type": "markdown",
   "metadata": {},
   "source": [
    "TODO: Mostrar como evoluciona el costo $J(\\theta,X)$ a medida que avanza el algoritmo"
   ]
  },
  {
   "cell_type": "markdown",
   "metadata": {},
   "source": [
    "## Usando Scikit-Learn"
   ]
  },
  {
   "cell_type": "markdown",
   "metadata": {},
   "source": [
    "Hacer el cálculo \"manual\" funciona bien, pero el paquete \"Scikit-Learn\" es una mejor alternativa:"
   ]
  },
  {
   "cell_type": "code",
   "execution_count": 11,
   "metadata": {},
   "outputs": [
    {
     "data": {
      "text/plain": [
       "(array([ 4.02504519]), array([[ 2.97242573]]))"
      ]
     },
     "execution_count": 11,
     "metadata": {},
     "output_type": "execute_result"
    }
   ],
   "source": [
    "from sklearn.linear_model import LinearRegression \n",
    "\n",
    "lin_reg = LinearRegression()\n",
    "lin_reg.fit(X, y)\n",
    "lin_reg.intercept_, lin_reg.coef_"
   ]
  },
  {
   "cell_type": "markdown",
   "metadata": {},
   "source": [
    "Ahora la predicción:"
   ]
  },
  {
   "cell_type": "code",
   "execution_count": 12,
   "metadata": {},
   "outputs": [],
   "source": [
    "y_predict = lin_reg.predict(X_new)"
   ]
  },
  {
   "cell_type": "code",
   "execution_count": 13,
   "metadata": {},
   "outputs": [
    {
     "data": {
      "text/plain": [
       "array([[ 4.02504519],\n",
       "       [ 9.96989666]])"
      ]
     },
     "execution_count": 13,
     "metadata": {},
     "output_type": "execute_result"
    }
   ],
   "source": [
    "y_predict"
   ]
  },
  {
   "cell_type": "markdown",
   "metadata": {},
   "source": [
    "## Usos típicos de la regresión lineal"
   ]
  },
  {
   "cell_type": "markdown",
   "metadata": {},
   "source": [
    "TODO: ejemplos de uso típicos en los cuales me conviene usar regresión lineal por sobre otro tipo de modelo.\n",
    "Adjuntar links a videos/documentación/bibliografía."
   ]
  },
  {
   "cell_type": "markdown",
   "metadata": {},
   "source": [
    "## Bibliografía"
   ]
  },
  {
   "cell_type": "markdown",
   "metadata": {},
   "source": [
    "TODO: incluir videos y cursos online"
   ]
  },
  {
   "cell_type": "code",
   "execution_count": null,
   "metadata": {},
   "outputs": [],
   "source": []
  }
 ],
 "metadata": {
  "kernelspec": {
   "display_name": "Python 3",
   "language": "python",
   "name": "python3"
  },
  "language_info": {
   "codemirror_mode": {
    "name": "ipython",
    "version": 3
   },
   "file_extension": ".py",
   "mimetype": "text/x-python",
   "name": "python",
   "nbconvert_exporter": "python",
   "pygments_lexer": "ipython3",
   "version": "3.5.4"
  }
 },
 "nbformat": 4,
 "nbformat_minor": 2
}
