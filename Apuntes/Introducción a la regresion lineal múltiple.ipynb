{
 "cells": [
  {
   "cell_type": "markdown",
   "metadata": {},
   "source": [
    "# Regresión Lineal\n",
    "La regresión lineal es uno de los métodos mas antiguos de Aprendizaje Supervisado. La regresión lineal se basa en el principio subyacente que las variables independientes (predictores o features) se relacionan en forma lineal a efectos de generar el valor de la variable dependiente. Además de permitirnos predecir la variable independiente, también nos permite identificar cuales son las variables dependientes que mas impactan en el valor de la variable a predecir.\n",
    "\n",
    "## Modelo subyacente\n",
    "\n",
    "#### Modelo de regresión lineal simple (un predictor): \n",
    "\\begin{equation*}\n",
    "y = \\theta_{0} + \\theta_{1} \\cdot x_{1} + e\n",
    "\\end{equation*}\n",
    "\n",
    "Donde:\n",
    "\n",
    "\\begin{equation*}\n",
    "\\hat{y} = \\theta_{0} + \\theta_{1} \\cdot x{1}\n",
    "\\end{equation*}\n",
    "\n",
    "#### Modelo de regresión lineal múltiple (muchos predictores):\n",
    "\\begin{equation*}\n",
    "y = \\theta_{0} + \\sum_{i=1}^{n}(\\theta_{i} \\cdot x_{i}) + e\n",
    "\\end{equation*}\n",
    "\n",
    "Donde:\n",
    "\n",
    "\\begin{equation*}\n",
    "\\hat{y} = \\theta_{0} + \\sum_{i=1}^{n}(\\theta_{i} \\cdot x_{i}) \n",
    "\\end{equation*}\n",
    "\n",
    "- $\\hat{y}$ es el valor predicho (la estimación de la variable independiente).\n",
    "- n es el número de variables dependientes.\n",
    "- xi es la ith variable dependiente.\n",
    "- θj es el jth parámetro del modelo. Incluye el bias (sesgo o término independiente) y los coeficientes de todas las variables dependientes.\n",
    "- e es el error (aleatorio) en la predicción.\n",
    "\n",
    "Usualmente, en Machine Learning es mas usada la notación vectorial:\n",
    "#### Equation y = hθ x = θT · x\n",
    "- θ es el vector columna de parámetros del modelo. Incluye el bias (sesgo o término independiente) y los coeficientes de todas las variables dependientes. Por convenio, los vectores son siempre vectores columna, salvo que se aclare lo contrario.\n",
    "- θT es el transpuesto del vector θ (o sea, un vector fila).\n",
    "- x es el vector de variables independientes. Para poder multiplicarlo por θT, se agrega la componente inicial correspoendiente al bias (θ0), la cual vale siempre 1.\n",
    "- θT · x es el producto escalar entre x y θT.\n",
    "- y es el vector de prediciones. En el caso de predecir una sola variable, es un escalar."
   ]
  },
  {
   "cell_type": "markdown",
   "metadata": {},
   "source": [
    "Generemos nuestro primer ejemplo de regresion lineal simple. Importemos Numpy y generemos datos aleatorios para X:"
   ]
  },
  {
   "cell_type": "code",
   "execution_count": 15,
   "metadata": {},
   "outputs": [],
   "source": [
    "import numpy as np\n",
    "\n",
    "np.random.seed(19680801) # Fijo la semilla aleatoria, para reproducir el experimento\n",
    "X = 2 * np.random.rand(100, 1)"
   ]
  },
  {
   "cell_type": "markdown",
   "metadata": {},
   "source": [
    "Veamos el contenido de nuestra variable:"
   ]
  },
  {
   "cell_type": "code",
   "execution_count": 8,
   "metadata": {},
   "outputs": [
    {
     "data": {
      "text/plain": [
       "array([[ 1.40073461],\n",
       "       [ 1.48550162],\n",
       "       [ 1.41856002],\n",
       "       [ 1.13349104],\n",
       "       [ 1.95557067],\n",
       "       [ 1.41266969],\n",
       "       [ 0.49583152],\n",
       "       [ 0.3157667 ],\n",
       "       [ 1.39539704],\n",
       "       [ 1.43991333],\n",
       "       [ 0.51548886],\n",
       "       [ 0.68309357],\n",
       "       [ 1.93752234],\n",
       "       [ 1.3890142 ],\n",
       "       [ 0.93276652],\n",
       "       [ 1.40562539],\n",
       "       [ 1.02357175],\n",
       "       [ 1.85748274],\n",
       "       [ 1.4795386 ],\n",
       "       [ 1.24487807],\n",
       "       [ 1.30309094],\n",
       "       [ 0.79361522],\n",
       "       [ 1.08647879],\n",
       "       [ 1.59979906],\n",
       "       [ 1.44308945],\n",
       "       [ 0.59072796],\n",
       "       [ 0.32189176],\n",
       "       [ 0.41225103],\n",
       "       [ 0.26865077],\n",
       "       [ 0.96121003],\n",
       "       [ 0.68504363],\n",
       "       [ 0.72593858],\n",
       "       [ 1.94583528],\n",
       "       [ 0.22188722],\n",
       "       [ 0.77652818],\n",
       "       [ 1.56613175],\n",
       "       [ 1.94579452],\n",
       "       [ 0.96641921],\n",
       "       [ 0.67284221],\n",
       "       [ 1.13483807],\n",
       "       [ 0.09588302],\n",
       "       [ 0.77787406],\n",
       "       [ 1.81260729],\n",
       "       [ 0.32203642],\n",
       "       [ 1.48724227],\n",
       "       [ 1.26594832],\n",
       "       [ 0.64836004],\n",
       "       [ 1.84475306],\n",
       "       [ 0.47445288],\n",
       "       [ 1.64789114],\n",
       "       [ 1.50121428],\n",
       "       [ 0.22756891],\n",
       "       [ 1.69072249],\n",
       "       [ 1.84786426],\n",
       "       [ 0.44167358],\n",
       "       [ 1.86610775],\n",
       "       [ 0.97799749],\n",
       "       [ 0.94943728],\n",
       "       [ 0.17833494],\n",
       "       [ 0.45989636],\n",
       "       [ 1.43187482],\n",
       "       [ 0.99225232],\n",
       "       [ 1.53297876],\n",
       "       [ 1.79359464],\n",
       "       [ 1.54444604],\n",
       "       [ 1.85434858],\n",
       "       [ 1.22930405],\n",
       "       [ 1.21812754],\n",
       "       [ 1.36936973],\n",
       "       [ 0.50202593],\n",
       "       [ 1.67567527],\n",
       "       [ 0.23723123],\n",
       "       [ 1.59446948],\n",
       "       [ 1.89800853],\n",
       "       [ 0.29612575],\n",
       "       [ 1.81374397],\n",
       "       [ 1.57674665],\n",
       "       [ 1.53681168],\n",
       "       [ 1.19699297],\n",
       "       [ 0.88429124],\n",
       "       [ 1.44607604],\n",
       "       [ 0.8332365 ],\n",
       "       [ 0.45362079],\n",
       "       [ 0.90845468],\n",
       "       [ 1.69588751],\n",
       "       [ 1.8733119 ],\n",
       "       [ 1.91207237],\n",
       "       [ 0.78418863],\n",
       "       [ 1.41664934],\n",
       "       [ 0.25903167],\n",
       "       [ 0.70759277],\n",
       "       [ 0.80854304],\n",
       "       [ 1.2970678 ],\n",
       "       [ 0.06614194],\n",
       "       [ 1.07601873],\n",
       "       [ 0.26342624],\n",
       "       [ 1.04186987],\n",
       "       [ 0.20496957],\n",
       "       [ 0.31596075],\n",
       "       [ 1.84005929]])"
      ]
     },
     "execution_count": 8,
     "metadata": {},
     "output_type": "execute_result"
    }
   ],
   "source": [
    "X"
   ]
  },
  {
   "cell_type": "markdown",
   "metadata": {},
   "source": [
    "Esta visualización no es tan útil, hagamos un histograma con matplotlib:"
   ]
  },
  {
   "cell_type": "code",
   "execution_count": 16,
   "metadata": {},
   "outputs": [
    {
     "data": {
      "image/png": "[encoded data removed]",
      "text/plain": [
       "<Figure size 432x288 with 1 Axes>"
      ]
     },
     "metadata": {},
     "output_type": "display_data"
    },
    {
     "data": {
      "text/plain": [
       "<Figure size 432x288 with 0 Axes>"
      ]
     },
     "metadata": {},
     "output_type": "display_data"
    }
   ],
   "source": [
    "import matplotlib.pyplot as plt\n",
    "\n",
    "n_bins = 20\n",
    "plt.title('Variable Independiente')\n",
    "plt.hist(X, bins = n_bins)\n",
    "plt.grid(True)\n",
    "plt.show()\n",
    "plt.clf()\n"
   ]
  },
  {
   "cell_type": "markdown",
   "metadata": {},
   "source": [
    "Definamos y como una función lineal respecto de X pero con ruido aleatorio. Obviamente, en un ejemplo real no conocería la forma de y."
   ]
  },
  {
   "cell_type": "code",
   "execution_count": 18,
   "metadata": {},
   "outputs": [],
   "source": [
    "y = 4 + 3 * X + np.random.randn(100, 1)"
   ]
  },
  {
   "cell_type": "markdown",
   "metadata": {},
   "source": [
    "Veamos como lucen los datos:"
   ]
  },
  {
   "cell_type": "code",
   "execution_count": 22,
   "metadata": {},
   "outputs": [
    {
     "data": {
      "image/png": "[encoded data removed]",
      "text/plain": [
       "<Figure size 432x288 with 1 Axes>"
      ]
     },
     "metadata": {},
     "output_type": "display_data"
    }
   ],
   "source": [
    "plt.plot(X, y, \"b.\") #\"b.\" indica que grafique puntos sin unir mediente líneas\n",
    "plt.axis([0, 2, 0, 15])\n",
    "plt.show()"
   ]
  },
  {
   "cell_type": "markdown",
   "metadata": {},
   "source": [
    "A simple vista se observa cierta dependencia. Pero supongamos que no sabemos como está definida \"y\" y tratemos de estimarla usando regresión lineal.\n",
    "Primero, agreguemos a los datos el coefiente 1 para el término independiente:"
   ]
  },
  {
   "cell_type": "code",
   "execution_count": 23,
   "metadata": {},
   "outputs": [],
   "source": [
    "X_b = np.c_[np.ones((100, 1)), X] "
   ]
  },
  {
   "cell_type": "markdown",
   "metadata": {},
   "source": [
    "Y ahora calculemos los valores de θ que minimizan el error en el ajuste:"
   ]
  },
  {
   "cell_type": "code",
   "execution_count": 26,
   "metadata": {},
   "outputs": [
    {
     "data": {
      "text/plain": [
       "array([[ 3.80010237],\n",
       "       [ 3.19082032]])"
      ]
     },
     "execution_count": 26,
     "metadata": {},
     "output_type": "execute_result"
    }
   ],
   "source": [
    "theta_best = np.linalg.inv(X_b.T.dot(X_b)).dot(X_b.T).dot(y)\n",
    "theta_best"
   ]
  },
  {
   "cell_type": "markdown",
   "metadata": {},
   "source": [
    "Listo, theta_best son los parámetros del modelo de regresión lineal que ajusté que minimizan el error (que lo definimos aleatoriamente). ¿Como uso theta_best para hacer una predicción?:"
   ]
  },
  {
   "cell_type": "code",
   "execution_count": 27,
   "metadata": {},
   "outputs": [
    {
     "data": {
      "text/plain": [
       "array([[  3.80010237],\n",
       "       [ 10.18174301]])"
      ]
     },
     "execution_count": 27,
     "metadata": {},
     "output_type": "execute_result"
    }
   ],
   "source": [
    "X_new = np.array([[0], [2]])\n",
    "X_new_b = np.c_[np.ones((2, 1)), X_new] # add x0 = 1 to each instance \n",
    "y_predict = X_new_b.dot(theta_best)\n",
    "y_predict"
   ]
  },
  {
   "cell_type": "markdown",
   "metadata": {},
   "source": [
    "Si lo grafico:"
   ]
  },
  {
   "cell_type": "code",
   "execution_count": 28,
   "metadata": {},
   "outputs": [
    {
     "data": {
      "image/png": "[encoded data removed]",
      "text/plain": [
       "<Figure size 432x288 with 1 Axes>"
      ]
     },
     "metadata": {},
     "output_type": "display_data"
    }
   ],
   "source": [
    "plt.plot(X_new, y_predict, \"r-\")\n",
    "plt.plot(X, y, \"b.\")\n",
    "plt.axis([0, 2, 0, 15])\n",
    "plt.show()"
   ]
  },
  {
   "cell_type": "markdown",
   "metadata": {},
   "source": [
    "Hacer el cálculo \"manual\" funciona bien, pero el paquete \"Scikit-Learn\" es una mejor alternativa:"
   ]
  },
  {
   "cell_type": "code",
   "execution_count": 34,
   "metadata": {},
   "outputs": [
    {
     "data": {
      "text/plain": [
       "(array([ 3.80010237]), array([[ 3.19082032]]))"
      ]
     },
     "execution_count": 34,
     "metadata": {},
     "output_type": "execute_result"
    }
   ],
   "source": [
    "from sklearn.linear_model import LinearRegression \n",
    "\n",
    "lin_reg = LinearRegression()\n",
    "lin_reg.fit(X, y)\n",
    "lin_reg.intercept_, lin_reg.coef_"
   ]
  },
  {
   "cell_type": "markdown",
   "metadata": {},
   "source": [
    "Ahora la predicción:"
   ]
  },
  {
   "cell_type": "code",
   "execution_count": 36,
   "metadata": {},
   "outputs": [],
   "source": [
    "y_predict = lin_reg.predict(X_new)"
   ]
  },
  {
   "cell_type": "code",
   "execution_count": 37,
   "metadata": {},
   "outputs": [
    {
     "data": {
      "text/plain": [
       "array([[  3.80010237],\n",
       "       [ 10.18174301]])"
      ]
     },
     "execution_count": 37,
     "metadata": {},
     "output_type": "execute_result"
    }
   ],
   "source": [
    "y_predict"
   ]
  },
  {
   "cell_type": "code",
   "execution_count": null,
   "metadata": {},
   "outputs": [],
   "source": []
  }
 ],
 "metadata": {
  "kernelspec": {
   "display_name": "Python 3",
   "language": "python",
   "name": "python3"
  },
  "language_info": {
   "codemirror_mode": {
    "name": "ipython",
    "version": 3
   },
   "file_extension": ".py",
   "mimetype": "text/x-python",
   "name": "python",
   "nbconvert_exporter": "python",
   "pygments_lexer": "ipython3",
   "version": "3.5.4"
  }
 },
 "nbformat": 4,
 "nbformat_minor": 2
}
